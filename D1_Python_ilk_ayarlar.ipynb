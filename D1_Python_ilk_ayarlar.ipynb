{
  "nbformat": 4,
  "nbformat_minor": 0,
  "metadata": {
    "colab": {
      "provenance": []
    },
    "kernelspec": {
      "name": "python3",
      "display_name": "Python 3"
    },
    "language_info": {
      "name": "python"
    }
  },
  "cells": [
    {
      "cell_type": "code",
      "source": [
        "print(\"Merhaba IGU HEE ALGORİTMA SINIFI\")# İLK ÇIKTI"
      ],
      "metadata": {
        "colab": {
          "base_uri": "https://localhost:8080/"
        },
        "id": "E41dsPVqclrJ",
        "outputId": "8bd26f78-1e80-4e9d-a998-0bf1bcc729b2"
      },
      "execution_count": 1,
      "outputs": [
        {
          "output_type": "stream",
          "name": "stdout",
          "text": [
            "Merhaba IGU HEE ALGORİTMA SINIFI\n"
          ]
        }
      ]
    },
    {
      "cell_type": "code",
      "source": [
        "import sys # import pyhton programlama dilinde yazılıma kütüphane eklemeye yarayacak\n",
        "print(sys.version)\n",
        "\n",
        ""
      ],
      "metadata": {
        "colab": {
          "base_uri": "https://localhost:8080/"
        },
        "id": "5-kjcwnXclWo",
        "outputId": "606b6210-ea21-4e4f-a947-4b2a4b76a356"
      },
      "execution_count": 3,
      "outputs": [
        {
          "output_type": "stream",
          "name": "stdout",
          "text": [
            "3.10.12 (main, Sep 11 2024, 15:47:36) [GCC 11.4.0]\n"
          ]
        }
      ]
    },
    {
      "cell_type": "code",
      "source": [
        "from google.colab import drive # google colab-drive bağlantısı\n",
        "drive.mount('/content/drive')"
      ],
      "metadata": {
        "colab": {
          "base_uri": "https://localhost:8080/"
        },
        "id": "eGmyl64YclSZ",
        "outputId": "f22021c3-c0bd-40f7-c8b7-bdeff4e97177"
      },
      "execution_count": 4,
      "outputs": [
        {
          "output_type": "stream",
          "name": "stdout",
          "text": [
            "Mounted at /content/drive\n"
          ]
        }
      ]
    },
    {
      "cell_type": "code",
      "execution_count": 12,
      "metadata": {
        "colab": {
          "base_uri": "https://localhost:8080/"
        },
        "id": "ipQGY3debjPM",
        "outputId": "3ae2c87a-a487-4d8b-c9b5-e7efef88d926"
      },
      "outputs": [
        {
          "output_type": "stream",
          "name": "stdout",
          "text": [
            "/content/drive/My Drive/IGU_ALGORITMA\n"
          ]
        }
      ],
      "source": [
        "import os\n",
        "os.chdir('/content/drive/My Drive/IGU_ALGORITMA')\n",
        "!pwd # bize kodun çıktısını dosya yolu olarak veren kod blogudur."
      ]
    },
    {
      "cell_type": "markdown",
      "source": [],
      "metadata": {
        "id": "_bSiblfgcmMB"
      }
    }
  ]
}